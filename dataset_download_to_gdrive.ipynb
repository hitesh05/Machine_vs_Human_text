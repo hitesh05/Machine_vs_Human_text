{
  "cells": [
    {
      "cell_type": "code",
      "execution_count": null,
      "metadata": {
        "id": "9gfrj2Z4VcRU"
      },
      "outputs": [],
      "source": [
        "# !pip install gdown"
      ]
    },
    {
      "cell_type": "code",
      "execution_count": null,
      "metadata": {
        "id": "NXm8lDjfVjcA"
      },
      "outputs": [],
      "source": [
        "!gdown --folder https://drive.google.com/drive/folders/14DulzxuH5TDhXtviRVXsH5e2JTY2POLi"
      ]
    },
    {
      "cell_type": "code",
      "execution_count": 6,
      "metadata": {
        "id": "QKxnR1lvWTul"
      },
      "outputs": [],
      "source": [
        "from google.colab import drive\n",
        "drive.mount('/content/drive')"
      ]
    },
    {
      "cell_type": "code",
      "execution_count": null,
      "metadata": {
        "id": "pSjfK1CZVpdt"
      },
      "outputs": [],
      "source": [
        "import shutil\n",
        "\n",
        "# Define the source directory (current directory where files were downloaded)\n",
        "source_directory = \"/content/SemEval2024-Task8\"\n",
        "\n",
        "# Define the destination directory in your Google Drive\n",
        "destination_directory = \"/content/drive/MyDrive/SemEval8/\"\n",
        "\n",
        "# Use shutil to move the files from source to destination\n",
        "shutil.move(source_directory, destination_directory)\n"
      ]
    }
  ],
  "metadata": {
    "colab": {
      "provenance": []
    },
    "kernelspec": {
      "display_name": "Python 3",
      "name": "python3"
    },
    "language_info": {
      "name": "python"
    }
  },
  "nbformat": 4,
  "nbformat_minor": 0
}
